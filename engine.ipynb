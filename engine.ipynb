{
 "cells": [
  {
   "cell_type": "code",
   "execution_count": 1,
   "metadata": {},
   "outputs": [
    {
     "name": "stdout",
     "output_type": "stream",
     "text": [
      "tensor([[0.8026, 0.4931, 0.3832, 0.2554, 0.3958],\n",
      "        [0.0081, 0.4928, 0.2390, 0.7849, 0.9708],\n",
      "        [0.2969, 0.8257, 0.4838, 0.2458, 0.6195]])\n"
     ]
    }
   ],
   "source": [
    "import torch\n",
    "ran = torch.rand(3,5)\n",
    "print(ran)"
   ]
  },
  {
   "cell_type": "code",
   "execution_count": null,
   "metadata": {},
   "outputs": [],
   "source": []
  }
 ],
 "metadata": {
  "kernelspec": {
   "display_name": "torch",
   "language": "python",
   "name": "python3"
  },
  "language_info": {
   "codemirror_mode": {
    "name": "ipython",
    "version": 3
   },
   "file_extension": ".py",
   "mimetype": "text/x-python",
   "name": "python",
   "nbconvert_exporter": "python",
   "pygments_lexer": "ipython3",
   "version": "3.10.4 (main, Mar 31 2022, 08:41:55) [GCC 7.5.0]"
  },
  "orig_nbformat": 4,
  "vscode": {
   "interpreter": {
    "hash": "ac13d32eb24cd93d97416a09cde1970ff8572a755da22c0edf6f3280a7f6c2ac"
   }
  }
 },
 "nbformat": 4,
 "nbformat_minor": 2
}
